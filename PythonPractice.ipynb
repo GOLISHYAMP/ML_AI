{
 "cells": [
  {
   "attachments": {},
   "cell_type": "markdown",
   "metadata": {},
   "source": [
    "#### Lets learn Decorator"
   ]
  },
  {
   "cell_type": "code",
   "execution_count": 13,
   "metadata": {},
   "outputs": [],
   "source": [
    "def say_hello(name):\n",
    "    print(f\"hii {name}, Good morning!\")"
   ]
  },
  {
   "cell_type": "code",
   "execution_count": 14,
   "metadata": {},
   "outputs": [
    {
     "name": "stdout",
     "output_type": "stream",
     "text": [
      "hii shyam, Good morning!\n"
     ]
    }
   ],
   "source": [
    "say_hello('shyam')"
   ]
  },
  {
   "attachments": {},
   "cell_type": "markdown",
   "metadata": {},
   "source": [
    "#### So now lets increase the functionality of the function with out changing the say_hello function"
   ]
  },
  {
   "cell_type": "code",
   "execution_count": 15,
   "metadata": {},
   "outputs": [],
   "source": [
    "def adv_say_hello(say_hello):\n",
    "    def inner(name):\n",
    "        if name == \"shyam\":\n",
    "            print(f\"Welcome {name}\")\n",
    "        else:\n",
    "            say_hello(name)\n",
    "    return inner"
   ]
  },
  {
   "cell_type": "code",
   "execution_count": 16,
   "metadata": {},
   "outputs": [],
   "source": [
    "@adv_say_hello\n",
    "def say_hello(name):\n",
    "    print(f\"hii {name}, Good morning!\")"
   ]
  },
  {
   "cell_type": "code",
   "execution_count": 17,
   "metadata": {},
   "outputs": [
    {
     "name": "stdout",
     "output_type": "stream",
     "text": [
      "hii ram, Good morning!\n"
     ]
    }
   ],
   "source": [
    "say_hello('ram')"
   ]
  },
  {
   "cell_type": "code",
   "execution_count": 18,
   "metadata": {},
   "outputs": [
    {
     "name": "stdout",
     "output_type": "stream",
     "text": [
      "Welcome shyam\n"
     ]
    }
   ],
   "source": [
    "say_hello('shyam')"
   ]
  },
  {
   "attachments": {},
   "cell_type": "markdown",
   "metadata": {},
   "source": [
    "#### Thats all, now what if i don't want to use @.... then in that case follow the below code"
   ]
  },
  {
   "cell_type": "code",
   "execution_count": 19,
   "metadata": {},
   "outputs": [],
   "source": [
    "def adv_say_hello(say_hello):\n",
    "    def inner(name):\n",
    "        if name == \"shyam\":\n",
    "            print(f\"Welcome {name}\")\n",
    "        else:\n",
    "            say_hello(name)\n",
    "    return inner\n",
    "\n",
    "# @adv_say_hello\n",
    "def say_hello(name):\n",
    "    print(f\"hii {name}, Good morning!\")\n",
    "\n",
    "s = adv_say_hello(say_hello)"
   ]
  },
  {
   "cell_type": "code",
   "execution_count": 20,
   "metadata": {},
   "outputs": [
    {
     "name": "stdout",
     "output_type": "stream",
     "text": [
      "hii ram, Good morning!\n"
     ]
    }
   ],
   "source": [
    "s('ram')"
   ]
  },
  {
   "cell_type": "code",
   "execution_count": 21,
   "metadata": {},
   "outputs": [
    {
     "name": "stdout",
     "output_type": "stream",
     "text": [
      "Welcome shyam\n"
     ]
    }
   ],
   "source": [
    "s('shyam')"
   ]
  },
  {
   "attachments": {},
   "cell_type": "markdown",
   "metadata": {},
   "source": [
    "#### We can also chain the decorators"
   ]
  },
  {
   "cell_type": "code",
   "execution_count": 22,
   "metadata": {},
   "outputs": [],
   "source": [
    "def square(func):\n",
    "    def inner():\n",
    "        x = func()\n",
    "        print('this is square decor')\n",
    "        return x*x\n",
    "    return inner\n",
    "\n",
    "def double_(func):\n",
    "    def inner():\n",
    "        x = func()\n",
    "        print('this is double_ decor')\n",
    "        return 2*x\n",
    "    return inner\n",
    "\n",
    "@square\n",
    "@double_\n",
    "def func():\n",
    "    print('this is base')\n",
    "    return 10\n",
    "    "
   ]
  },
  {
   "cell_type": "code",
   "execution_count": 23,
   "metadata": {},
   "outputs": [
    {
     "name": "stdout",
     "output_type": "stream",
     "text": [
      "this is base\n",
      "this is double_ decor\n",
      "this is square decor\n"
     ]
    },
    {
     "data": {
      "text/plain": [
       "400"
      ]
     },
     "execution_count": 23,
     "metadata": {},
     "output_type": "execute_result"
    }
   ],
   "source": [
    "func()"
   ]
  },
  {
   "attachments": {},
   "cell_type": "markdown",
   "metadata": {},
   "source": [
    "### Now lets the generator"
   ]
  },
  {
   "cell_type": "code",
   "execution_count": 24,
   "metadata": {},
   "outputs": [],
   "source": [
    "x = (i for i in range(10))"
   ]
  },
  {
   "cell_type": "code",
   "execution_count": 25,
   "metadata": {},
   "outputs": [
    {
     "data": {
      "text/plain": [
       "0"
      ]
     },
     "execution_count": 25,
     "metadata": {},
     "output_type": "execute_result"
    }
   ],
   "source": [
    "next(x)"
   ]
  },
  {
   "attachments": {},
   "cell_type": "markdown",
   "metadata": {},
   "source": [
    "#### if you run the above cell more 10 times you will get this error"
   ]
  },
  {
   "cell_type": "code",
   "execution_count": 26,
   "metadata": {},
   "outputs": [],
   "source": [
    "def firstn(num):\n",
    "    n = 1\n",
    "    while (n <= num):\n",
    "        yield n\n",
    "        n += 1"
   ]
  },
  {
   "cell_type": "code",
   "execution_count": 27,
   "metadata": {},
   "outputs": [
    {
     "name": "stdout",
     "output_type": "stream",
     "text": [
      "<generator object firstn at 0x000001411E773760>\n",
      "1\n",
      "2\n",
      "3\n",
      "4\n",
      "5\n",
      "6\n",
      "7\n",
      "8\n",
      "9\n",
      "10\n"
     ]
    }
   ],
   "source": [
    "values = firstn(10)\n",
    "print(values)\n",
    "for i in values:\n",
    "    print(i)"
   ]
  },
  {
   "cell_type": "code",
   "execution_count": 28,
   "metadata": {},
   "outputs": [],
   "source": [
    "def fibo():\n",
    "    a,b = 0,1   # initialization\n",
    "    while(True):  # condition check\n",
    "        yield a    # printable values\n",
    "        a,b = b,a+b    # next iteration incre or decre"
   ]
  },
  {
   "cell_type": "code",
   "execution_count": 29,
   "metadata": {},
   "outputs": [
    {
     "name": "stdout",
     "output_type": "stream",
     "text": [
      "0\n",
      "1\n",
      "1\n",
      "2\n",
      "3\n",
      "5\n",
      "8\n",
      "13\n",
      "21\n",
      "34\n",
      "55\n",
      "89\n",
      "144\n"
     ]
    }
   ],
   "source": [
    "values = fibo()\n",
    "for i in values:\n",
    "    if i > 200:\n",
    "        break\n",
    "    print(i)"
   ]
  },
  {
   "cell_type": "code",
   "execution_count": 30,
   "metadata": {},
   "outputs": [
    {
     "name": "stdout",
     "output_type": "stream",
     "text": [
      "0\n",
      "1\n",
      "1\n",
      "2\n",
      "3\n",
      "5\n",
      "8\n",
      "13\n",
      "21\n",
      "34\n"
     ]
    }
   ],
   "source": [
    "value = fibo()\n",
    "for i in range(10):\n",
    "    print(next(value))"
   ]
  },
  {
   "cell_type": "code",
   "execution_count": 31,
   "metadata": {},
   "outputs": [],
   "source": [
    "def fibo():\n",
    "    a,b = 0,1   # initialization\n",
    "    while(a<100):  # condition check\n",
    "        yield a    # printable values\n",
    "        a,b = b,a+b    # next iteration incre or decre"
   ]
  },
  {
   "cell_type": "code",
   "execution_count": 32,
   "metadata": {},
   "outputs": [
    {
     "name": "stdout",
     "output_type": "stream",
     "text": [
      "0\n",
      "1\n",
      "1\n",
      "2\n",
      "3\n",
      "5\n",
      "8\n",
      "13\n",
      "21\n",
      "34\n",
      "55\n",
      "89\n"
     ]
    }
   ],
   "source": [
    "values = fibo()\n",
    "for i in values:\n",
    "    print(i)"
   ]
  },
  {
   "cell_type": "code",
   "execution_count": 33,
   "metadata": {},
   "outputs": [
    {
     "name": "stdout",
     "output_type": "stream",
     "text": [
      "shyam\n"
     ]
    }
   ],
   "source": [
    "print('shyam')"
   ]
  },
  {
   "cell_type": "code",
   "execution_count": 34,
   "metadata": {},
   "outputs": [
    {
     "name": "stdout",
     "output_type": "stream",
     "text": [
      "0:00:48.436804\n"
     ]
    }
   ],
   "source": [
    "import random\n",
    "# import time\n",
    "from datetime import datetime\n",
    "\n",
    "names = ['Sunny', 'Bunny', 'Chinny','Vinny']\n",
    "subjects = ['Python','Java','Blockchain']\n",
    "\n",
    "def people_list(num_people):\n",
    "    results = []\n",
    "    for i in range(num_people):\n",
    "        person = {\n",
    "            'id':i,\n",
    "            'name': random.choice(names),\n",
    "            'subject':random.choice(subjects)\n",
    "        }\n",
    "        results.append(person)\n",
    "    return results\n",
    "\n",
    "def people_generator(num_people):\n",
    "    for i in range(num_people):\n",
    "        person = {\n",
    "            'id':i,\n",
    "            'name': random.choice(names),\n",
    "            'subject':random.choice(subjects)\n",
    "        }\n",
    "        yield person\n",
    "\n",
    "t1 = datetime.now()\n",
    "people = people_list(10000000)\n",
    "t2 = datetime.now()\n",
    "\n",
    "# print('Took()'.format(t2-t1))\n",
    "print(t2-t1)"
   ]
  },
  {
   "cell_type": "code",
   "execution_count": 35,
   "metadata": {},
   "outputs": [
    {
     "name": "stdout",
     "output_type": "stream",
     "text": [
      "0:00:01.992455\n"
     ]
    }
   ],
   "source": [
    "import random\n",
    "# import time\n",
    "from datetime import datetime\n",
    "\n",
    "names = ['Sunny', 'Bunny', 'Chinny','Vinny']\n",
    "subjects = ['Python','Java','Blockchain']\n",
    "\n",
    "def people_list(num_people):\n",
    "    results = []\n",
    "    for i in range(num_people):\n",
    "        person = {\n",
    "            'id':i,\n",
    "            'name': random.choice(names),\n",
    "            'subject':random.choice(subjects)\n",
    "        }\n",
    "        results.append(person)\n",
    "    return results\n",
    "\n",
    "def people_generator(num_people):\n",
    "    for i in range(num_people):\n",
    "        person = {\n",
    "            'id':i,\n",
    "            'name': random.choice(names),\n",
    "            'subject':random.choice(subjects)\n",
    "        }\n",
    "        yield person\n",
    "\n",
    "t1 = datetime.now()\n",
    "people = people_generator(10000000)\n",
    "t2 = datetime.now()\n",
    "\n",
    "# print('Took()'.format(t2-t1))\n",
    "print(t2-t1)"
   ]
  },
  {
   "cell_type": "code",
   "execution_count": 36,
   "metadata": {},
   "outputs": [
    {
     "name": "stdout",
     "output_type": "stream",
     "text": [
      "Requirement already satisfied: psutil in c:\\users\\spurusho\\appdata\\local\\packages\\pythonsoftwarefoundation.python.3.10_qbz5n2kfra8p0\\localcache\\local-packages\\python310\\site-packages (5.9.4)\n"
     ]
    },
    {
     "name": "stderr",
     "output_type": "stream",
     "text": [
      "\n",
      "[notice] A new release of pip is available: 23.3.1 -> 24.0\n",
      "[notice] To update, run: C:\\Users\\SPURUSHO\\AppData\\Local\\Microsoft\\WindowsApps\\PythonSoftwareFoundation.Python.3.10_qbz5n2kfra8p0\\python.exe -m pip install --upgrade pip\n"
     ]
    }
   ],
   "source": [
    "!pip install psutil"
   ]
  },
  {
   "cell_type": "code",
   "execution_count": 37,
   "metadata": {},
   "outputs": [
    {
     "name": "stdout",
     "output_type": "stream",
     "text": [
      "Using list:\n",
      "Time taken: 0:00:49.492708\n",
      "Memory used: -163840 bytes\n",
      "Size of list object: 89095160 bytes\n",
      "\n",
      "Using generator:\n",
      "Time taken: 0:00:00\n",
      "Memory used: 0 bytes\n",
      "Size of generator object: 104 bytes\n"
     ]
    }
   ],
   "source": [
    "import random\n",
    "from datetime import datetime\n",
    "import sys\n",
    "import psutil  # For more comprehensive memory measurement\n",
    "import os\n",
    "\n",
    "# Define some sample data\n",
    "names = ['Sunny', 'Bunny', 'Chinny', 'Vinny']\n",
    "subjects = ['Python', 'Java', 'Blockchain']\n",
    "\n",
    "# Function to create a list of people\n",
    "def people_list(num_people):\n",
    "    results = []\n",
    "    for i in range(num_people):\n",
    "        person = {\n",
    "            'id': i,\n",
    "            'name': random.choice(names),\n",
    "            'subject': random.choice(subjects)\n",
    "        }\n",
    "        results.append(person)\n",
    "    return results\n",
    "\n",
    "# Function to create a generator of people\n",
    "def people_generator(num_people):\n",
    "    for i in range(num_people):\n",
    "        person = {\n",
    "            'id': i,\n",
    "            'name': random.choice(names),\n",
    "            'subject': random.choice(subjects)\n",
    "        }\n",
    "        yield person\n",
    "\n",
    "# Memory usage for people_list\n",
    "start_mem = psutil.Process(os.getpid()).memory_info().rss  # Get current memory usage\n",
    "t1 = datetime.now()\n",
    "people_list_data = people_list(10000000)  # Generate list\n",
    "t2 = datetime.now()\n",
    "end_mem = psutil.Process(os.getpid()).memory_info().rss  # Get memory usage after creating the list\n",
    "\n",
    "# Print time taken and memory usage\n",
    "print(\"Using list:\")\n",
    "print(f\"Time taken: {t2 - t1}\")\n",
    "print(f\"Memory used: {end_mem - start_mem} bytes\")\n",
    "print(f\"Size of list object: {sys.getsizeof(people_list_data)} bytes\")\n",
    "\n",
    "# Memory usage for people_generator\n",
    "start_mem = psutil.Process(os.getpid()).memory_info().rss\n",
    "t1 = datetime.now()\n",
    "people_generator_data = people_generator(10000000)  # Generate generator\n",
    "t2 = datetime.now()\n",
    "end_mem = psutil.Process(os.getpid()).memory_info().rss\n",
    "\n",
    "print(\"\\nUsing generator:\")\n",
    "print(f\"Time taken: {t2 - t1}\")\n",
    "print(f\"Memory used: {end_mem - start_mem} bytes\")\n",
    "print(f\"Size of generator object: {sys.getsizeof(people_generator_data)} bytes\")\n"
   ]
  },
  {
   "cell_type": "code",
   "execution_count": 38,
   "metadata": {},
   "outputs": [],
   "source": [
    "import os\n",
    "os.makedirs('first/second/third')"
   ]
  },
  {
   "cell_type": "code",
   "execution_count": 39,
   "metadata": {},
   "outputs": [],
   "source": [
    "os.removedirs('first/second/third')"
   ]
  },
  {
   "cell_type": "code",
   "execution_count": 40,
   "metadata": {},
   "outputs": [],
   "source": [
    "import random"
   ]
  },
  {
   "cell_type": "code",
   "execution_count": 41,
   "metadata": {},
   "outputs": [
    {
     "name": "stdout",
     "output_type": "stream",
     "text": [
      "writing into file is done\n"
     ]
    }
   ],
   "source": [
    "import pickle\n",
    "class Employee:\n",
    "    def __init__(self,id,name,role,salary):\n",
    "        self.id = id\n",
    "        self.name = name\n",
    "        self.role = role\n",
    "        self.salary = salary\n",
    "    def display(self):\n",
    "        print(\"{} {} {} {}\".format(self.id, self.name, self.role, self.salary))\n",
    "names = ['shyam', 'sai', 'utkarsh', 'sushant','vinod']\n",
    "role = ['python Developer','AI/ML', 'Java Developer', 'WebDev', 'Fullstack']\n",
    "salary = [122343,43434,65423,655344,65545]\n",
    "\n",
    "f = open('abc.dat','wb')\n",
    "\n",
    "for i in range(20):\n",
    "    Emp = Employee(i,random.choice(names),random.choice(role),random.choice(salary))\n",
    "    pickle.dump(Emp, f)\n",
    "print('writing into file is done')\n"
   ]
  },
  {
   "cell_type": "code",
   "execution_count": 44,
   "metadata": {},
   "outputs": [
    {
     "name": "stdout",
     "output_type": "stream",
     "text": [
      "0 utkarsh WebDev 65545\n",
      "1 sushant WebDev 43434\n",
      "2 sai WebDev 43434\n",
      "3 sai WebDev 65545\n",
      "4 sushant Fullstack 65423\n",
      "5 vinod WebDev 122343\n",
      "6 utkarsh Java Developer 43434\n",
      "7 vinod AI/ML 43434\n",
      "8 shyam Fullstack 43434\n",
      "9 utkarsh python Developer 65545\n",
      "10 utkarsh Fullstack 65545\n",
      "11 sai python Developer 65423\n",
      "12 vinod WebDev 43434\n",
      "13 utkarsh AI/ML 65545\n",
      "14 sai Fullstack 43434\n",
      "15 sushant Fullstack 655344\n",
      "16 shyam Java Developer 122343\n",
      "17 vinod Java Developer 65545\n",
      "18 sai AI/ML 655344\n",
      "19 shyam AI/ML 65423\n",
      "All completed!\n"
     ]
    }
   ],
   "source": [
    "f = open('abc.dat','rb')\n",
    "while True:\n",
    "    try:\n",
    "        E = pickle.load(f)\n",
    "        E.display()\n",
    "    except EOFError:\n",
    "        print(\"All completed!\")\n",
    "        f.close()\n",
    "        break\n"
   ]
  },
  {
   "cell_type": "code",
   "execution_count": 45,
   "metadata": {},
   "outputs": [],
   "source": [
    "import os\n",
    "os.rename('abc.dat','Employees.dat')"
   ]
  },
  {
   "cell_type": "code",
   "execution_count": 46,
   "metadata": {},
   "outputs": [],
   "source": [
    "li = [\"hello shyam\\n\", 'how are u\\n', 'I hope ur fine\\n','bye']\n",
    "with open('my_text.txt','w') as f:\n",
    "    for i in li:\n",
    "        f.write(i)"
   ]
  },
  {
   "cell_type": "code",
   "execution_count": 50,
   "metadata": {},
   "outputs": [
    {
     "name": "stdout",
     "output_type": "stream",
     "text": [
      "hello shyam\n",
      "how are u\n",
      "I hope ur fine\n",
      "bye\n"
     ]
    }
   ],
   "source": [
    "with open('my_text.txt','r') as f:\n",
    "    # while True:\n",
    "    print(f.read())\n",
    "        "
   ]
  },
  {
   "cell_type": "code",
   "execution_count": 53,
   "metadata": {},
   "outputs": [
    {
     "name": "stdout",
     "output_type": "stream",
     "text": [
      "hello shyam\n",
      "\n",
      "how are u\n",
      "\n",
      "I hope ur fine\n",
      "\n",
      "bye\n"
     ]
    }
   ],
   "source": [
    "with open('my_text.txt','r') as f:\n",
    "    for i in f:\n",
    "        print(i)\n"
   ]
  },
  {
   "cell_type": "code",
   "execution_count": 59,
   "metadata": {},
   "outputs": [],
   "source": [
    "import csv\n",
    "with open('my_csv.csv','w',newline='') as f:\n",
    "    w = csv.writer(f)\n",
    "    w.writerow(['shyam','goli','purushottam'])\n",
    "    w.writerow(['sai','goli','purushottam'])"
   ]
  },
  {
   "cell_type": "code",
   "execution_count": 63,
   "metadata": {},
   "outputs": [
    {
     "name": "stdout",
     "output_type": "stream",
     "text": [
      "shyam goli purushottam\n",
      "sai goli purushottam\n"
     ]
    }
   ],
   "source": [
    "with open('my_csv.csv','r',newline='') as f:\n",
    "    r = csv.reader(f)\n",
    "    for i in r:\n",
    "        print(' '.join(i))"
   ]
  },
  {
   "attachments": {},
   "cell_type": "markdown",
   "metadata": {},
   "source": [
    "# now i want to zip these two files\n",
    "#### Employees.dat and my_text.txt"
   ]
  },
  {
   "cell_type": "code",
   "execution_count": 70,
   "metadata": {},
   "outputs": [],
   "source": [
    "from zipfile import *\n",
    "f = ZipFile('myzip_file.zip','w',ZIP_DEFLATED)\n",
    "f.write('Employees.dat')\n",
    "f.write('my_csv.csv')\n",
    "f.write('my_text.txt')\n",
    "f.close()"
   ]
  },
  {
   "cell_type": "code",
   "execution_count": 73,
   "metadata": {},
   "outputs": [
    {
     "name": "stdout",
     "output_type": "stream",
     "text": [
      "0 utkarsh WebDev 65545\n",
      "1 sushant WebDev 43434\n",
      "2 sai WebDev 43434\n",
      "3 sai WebDev 65545\n",
      "4 sushant Fullstack 65423\n",
      "5 vinod WebDev 122343\n",
      "6 utkarsh Java Developer 43434\n",
      "7 vinod AI/ML 43434\n",
      "8 shyam Fullstack 43434\n",
      "9 utkarsh python Developer 65545\n",
      "10 utkarsh Fullstack 65545\n",
      "11 sai python Developer 65423\n",
      "12 vinod WebDev 43434\n",
      "13 utkarsh AI/ML 65545\n",
      "14 sai Fullstack 43434\n",
      "15 sushant Fullstack 655344\n",
      "16 shyam Java Developer 122343\n",
      "17 vinod Java Developer 65545\n",
      "18 sai AI/ML 655344\n",
      "19 shyam AI/ML 65423\n",
      "\n",
      "shyam,goli,purushottam\n",
      "sai,goli,purushottam\n",
      "\n",
      "\n",
      "hello shyam\n",
      "how are u\n",
      "I hope ur fine\n",
      "bye\n",
      "\n"
     ]
    }
   ],
   "source": [
    "from zipfile import *\n",
    "z = ZipFile('myzip_file.zip', 'r', ZIP_STORED)\n",
    "names = z.namelist()\n",
    "for name in names:\n",
    "    if name == 'Employees.dat':\n",
    "        f = open(name,'rb')\n",
    "        while True:\n",
    "            try: \n",
    "                E = pickle.load(f)\n",
    "                E.display()\n",
    "            except EOFError:\n",
    "                print()\n",
    "                break\n",
    "    else:\n",
    "        with open(name,'r')as f:\n",
    "            print(f.read())\n",
    "            print()\n",
    "\n"
   ]
  },
  {
   "cell_type": "code",
   "execution_count": null,
   "metadata": {},
   "outputs": [],
   "source": []
  }
 ],
 "metadata": {
  "kernelspec": {
   "display_name": "Python 3",
   "language": "python",
   "name": "python3"
  },
  "language_info": {
   "codemirror_mode": {
    "name": "ipython",
    "version": 3
   },
   "file_extension": ".py",
   "mimetype": "text/x-python",
   "name": "python",
   "nbconvert_exporter": "python",
   "pygments_lexer": "ipython3",
   "version": "3.10.11"
  },
  "orig_nbformat": 4
 },
 "nbformat": 4,
 "nbformat_minor": 2
}
