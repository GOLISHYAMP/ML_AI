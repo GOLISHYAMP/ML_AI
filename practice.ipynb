{
 "cells": [
  {
   "cell_type": "code",
   "execution_count": 1,
   "metadata": {},
   "outputs": [],
   "source": [
    "import numpy as np"
   ]
  },
  {
   "cell_type": "code",
   "execution_count": 3,
   "metadata": {},
   "outputs": [],
   "source": [
    "arr = [1,3,2,6]\n",
    "target = 5"
   ]
  },
  {
   "cell_type": "code",
   "execution_count": 5,
   "metadata": {},
   "outputs": [
    {
     "name": "stdout",
     "output_type": "stream",
     "text": [
      "2 1\n"
     ]
    }
   ],
   "source": [
    "for i in arr:\n",
    "    temp = target - i\n",
    "    if temp in arr:\n",
    "        print(arr.index(temp), arr.index(i))\n",
    "        break"
   ]
  },
  {
   "cell_type": "code",
   "execution_count": null,
   "metadata": {},
   "outputs": [],
   "source": [
    "0 1 1 2 3 5"
   ]
  },
  {
   "cell_type": "code",
   "execution_count": 6,
   "metadata": {},
   "outputs": [
    {
     "name": "stdout",
     "output_type": "stream",
     "text": [
      "0\n",
      "1\n",
      "1\n",
      "2\n",
      "3\n",
      "5\n",
      "8\n",
      "13\n",
      "21\n",
      "34\n"
     ]
    }
   ],
   "source": [
    "def fib(n1, n2, num):\n",
    "    if num > 0:\n",
    "        print(n1)\n",
    "        num = num -1\n",
    "        temp = n1+n2\n",
    "        return fib(n2, temp , num)\n",
    "\n",
    "n = int(input())\n",
    "n1 = 0\n",
    "n2 = 1\n",
    "fib(n1,n2,n)"
   ]
  },
  {
   "cell_type": "code",
   "execution_count": null,
   "metadata": {},
   "outputs": [],
   "source": []
  },
  {
   "cell_type": "code",
   "execution_count": 10,
   "metadata": {},
   "outputs": [
    {
     "name": "stdout",
     "output_type": "stream",
     "text": [
      "0\n",
      "1\n",
      "1\n",
      "2\n",
      "3\n",
      "5\n",
      "8\n",
      "13\n",
      "21\n",
      "34\n"
     ]
    }
   ],
   "source": [
    "def fib(n):\n",
    "    if n<=1:\n",
    "        return n\n",
    "    else:\n",
    "        return fib(n-1)+fib(n-2)\n",
    "\n",
    "length = 10\n",
    "for i in range(length):\n",
    "    print(fib(i))"
   ]
  },
  {
   "cell_type": "code",
   "execution_count": 2,
   "metadata": {},
   "outputs": [],
   "source": [
    "import numpy as np"
   ]
  },
  {
   "cell_type": "code",
   "execution_count": 3,
   "metadata": {},
   "outputs": [],
   "source": [
    "x =np.array([6.1101, 5.5277 ,8.5186, 7.0032 ,5.8598])\n",
    "y = np.array([17.592 ,  9.1302, 13.662,  11.854,   6.8233])"
   ]
  },
  {
   "cell_type": "code",
   "execution_count": 15,
   "metadata": {},
   "outputs": [],
   "source": [
    "z = x - y"
   ]
  },
  {
   "cell_type": "code",
   "execution_count": 16,
   "metadata": {},
   "outputs": [
    {
     "name": "stdout",
     "output_type": "stream",
     "text": [
      "[-11.4819  -3.6025  -5.1434  -4.8508  -0.9635]\n"
     ]
    }
   ],
   "source": [
    "print(z)"
   ]
  },
  {
   "cell_type": "code",
   "execution_count": 18,
   "metadata": {},
   "outputs": [],
   "source": [
    "temp = (x-y)**2"
   ]
  },
  {
   "cell_type": "code",
   "execution_count": 19,
   "metadata": {},
   "outputs": [
    {
     "data": {
      "text/plain": [
       "numpy.ndarray"
      ]
     },
     "execution_count": 19,
     "metadata": {},
     "output_type": "execute_result"
    }
   ],
   "source": [
    "type(temp)"
   ]
  },
  {
   "cell_type": "code",
   "execution_count": 20,
   "metadata": {},
   "outputs": [
    {
     "data": {
      "text/plain": [
       "195.72519031000002"
      ]
     },
     "execution_count": 20,
     "metadata": {},
     "output_type": "execute_result"
    }
   ],
   "source": [
    "sum(temp)"
   ]
  },
  {
   "cell_type": "code",
   "execution_count": 21,
   "metadata": {},
   "outputs": [
    {
     "data": {
      "text/plain": [
       "195.72519031000002"
      ]
     },
     "execution_count": 21,
     "metadata": {},
     "output_type": "execute_result"
    }
   ],
   "source": [
    "temp.sum()"
   ]
  },
  {
   "cell_type": "code",
   "execution_count": 24,
   "metadata": {},
   "outputs": [
    {
     "data": {
      "text/plain": [
       "16.5831"
      ]
     },
     "execution_count": 24,
     "metadata": {},
     "output_type": "execute_result"
    }
   ],
   "source": [
    "3*x[1]"
   ]
  },
  {
   "cell_type": "code",
   "execution_count": 4,
   "metadata": {},
   "outputs": [
    {
     "data": {
      "text/plain": [
       "array([6.1101, 5.5277, 8.5186, 7.0032, 5.8598])"
      ]
     },
     "execution_count": 4,
     "metadata": {},
     "output_type": "execute_result"
    }
   ],
   "source": [
    "x"
   ]
  },
  {
   "cell_type": "code",
   "execution_count": 5,
   "metadata": {},
   "outputs": [
    {
     "data": {
      "text/plain": [
       "397.33810508"
      ]
     },
     "execution_count": 5,
     "metadata": {},
     "output_type": "execute_result"
    }
   ],
   "source": [
    "np.dot(x,y)"
   ]
  },
  {
   "cell_type": "code",
   "execution_count": 7,
   "metadata": {},
   "outputs": [
    {
     "data": {
      "text/plain": [
       "397.33810508"
      ]
     },
     "execution_count": 7,
     "metadata": {},
     "output_type": "execute_result"
    }
   ],
   "source": [
    "z = x*y\n",
    "z.sum()"
   ]
  },
  {
   "cell_type": "code",
   "execution_count": 2,
   "metadata": {},
   "outputs": [
    {
     "name": "stdout",
     "output_type": "stream",
     "text": [
      "Original List: [1, 2, [3, 4]]\n",
      "Shallow Copy: [1, 2, [3, 4]]\n",
      "Deep Copy: [10, 2, [30, 4]]\n"
     ]
    }
   ],
   "source": [
    "import copy\n",
    "\n",
    "# Define a list\n",
    "original_list = [1, 2, [3, 4]]\n",
    "\n",
    "# Make a shallow copy\n",
    "shallow_copy = original_list.copy()\n",
    "\n",
    "# Make a deep copy\n",
    "deep_copy = copy.deepcopy(original_list)\n",
    "\n",
    "# Modify the copies\n",
    "deep_copy[0] = 10\n",
    "deep_copy[2][0] = 30\n",
    "\n",
    "# Print original list and copies\n",
    "print(\"Original List:\", original_list)\n",
    "print(\"Shallow Copy:\", shallow_copy)\n",
    "print(\"Deep Copy:\", deep_copy)\n"
   ]
  },
  {
   "cell_type": "code",
   "execution_count": 4,
   "metadata": {},
   "outputs": [],
   "source": [
    "import os"
   ]
  },
  {
   "cell_type": "code",
   "execution_count": 6,
   "metadata": {},
   "outputs": [
    {
     "data": {
      "text/plain": [
       "['datascience.zip', 'Numpy', 'Pandas', 'Python_Crash_Course']"
      ]
     },
     "execution_count": 6,
     "metadata": {},
     "output_type": "execute_result"
    }
   ],
   "source": [
    "os.listdir(path='./Jupiter_files/')"
   ]
  },
  {
   "cell_type": "code",
   "execution_count": 10,
   "metadata": {},
   "outputs": [
    {
     "name": "stdout",
     "output_type": "stream",
     "text": [
      "[1, 3, 3, 1]\n"
     ]
    }
   ],
   "source": [
    "lst = [1,2,3,4,3,2,1]\n",
    "\n",
    "# lst = [1,3,3,1]\n",
    "i = 0\n",
    "n = len(lst)\n",
    "while(i < n):\n",
    "    if lst[i] % 2 == 0:\n",
    "        lst.pop(i)\n",
    "        i -= 1\n",
    "        n -= 1\n",
    "    else:\n",
    "        i += 1\n",
    "    # return lst\n",
    "    # break\n",
    "print(lst)\n",
    "\n",
    "  "
   ]
  },
  {
   "cell_type": "code",
   "execution_count": 6,
   "metadata": {},
   "outputs": [
    {
     "name": "stdout",
     "output_type": "stream",
     "text": [
      "[1, 3, 4, 3, 2, 1]\n"
     ]
    }
   ],
   "source": [
    "lst.pop(1)\n",
    "print(lst)"
   ]
  },
  {
   "cell_type": "code",
   "execution_count": 1,
   "metadata": {},
   "outputs": [],
   "source": [
    "import numpy as np\n",
    "import matplotlib.pyplot as plt\n",
    "from sklearn.model_selection import train_test_split\n",
    "from sklearn.preprocessing import PolynomialFeatures\n",
    "from sklearn.linear_model import LinearRegression\n",
    "from sklearn.metrics import mean_squared_error\n",
    "\n",
    "# Generate some sample data\n",
    "np.random.seed(0)\n",
    "X = 2 * np.random.rand(100, 1) - 1\n",
    "y = 0.5 * X**2 + X + 2 + np.random.randn(100, 1)\n",
    "\n",
    "# Split the data into training and testing sets\n",
    "X_train, X_test, y_train, y_test = train_test_split(X, y, test_size=0.2, random_state=42)\n",
    "\n",
    "\n",
    "\n"
   ]
  },
  {
   "cell_type": "code",
   "execution_count": 2,
   "metadata": {},
   "outputs": [
    {
     "data": {
      "text/plain": [
       "array([[-0.67738096],\n",
       "       [ 0.15189299],\n",
       "       [-0.71329343],\n",
       "       [ 0.39526239],\n",
       "       [-0.80780318],\n",
       "       [-0.8257414 ],\n",
       "       [-0.2809842 ],\n",
       "       [ 0.17302587],\n",
       "       [-0.23311696],\n",
       "       [ 0.95352218],\n",
       "       [ 0.05778984],\n",
       "       [-0.7421474 ],\n",
       "       [-0.46922102],\n",
       "       [ 0.04369664],\n",
       "       [ 0.43265441],\n",
       "       [ 0.29178823],\n",
       "       [ 0.64198646],\n",
       "       [-0.26254966],\n",
       "       [ 0.23527099],\n",
       "       [-0.95956321],\n",
       "       [-0.27257846],\n",
       "       [-0.9624204 ],\n",
       "       [ 0.783546  ],\n",
       "       [-0.63361728],\n",
       "       [ 0.88933783],\n",
       "       [ 0.7400243 ],\n",
       "       [-0.17147401],\n",
       "       [ 0.27984204],\n",
       "       [ 0.31265918],\n",
       "       [ 0.85119328],\n",
       "       [-0.76345115],\n",
       "       [ 0.08976637],\n",
       "       [ 0.66523969],\n",
       "       [ 0.88749616],\n",
       "       [ 0.92732552],\n",
       "       [-0.4077196 ],\n",
       "       [-0.12482558],\n",
       "       [-0.60683528],\n",
       "       [ 0.22419145],\n",
       "       [ 0.8585924 ],\n",
       "       [ 0.30621665],\n",
       "       [-0.99060905],\n",
       "       [-0.58224649],\n",
       "       [-0.87954906],\n",
       "       [ 0.14039354],\n",
       "       [-0.80579745],\n",
       "       [-0.57923488],\n",
       "       [ 0.67588981],\n",
       "       [-0.77924972],\n",
       "       [-0.95978491],\n",
       "       [-0.76254456],\n",
       "       [-0.12593609],\n",
       "       [-0.06737845],\n",
       "       [-0.3691433 ],\n",
       "       [ 0.65788006],\n",
       "       [-0.49341679],\n",
       "       [-0.92162442],\n",
       "       [-0.08769934],\n",
       "       [-0.42118781],\n",
       "       [-0.51114882],\n",
       "       [-0.7236341 ],\n",
       "       [ 0.13320291],\n",
       "       [ 0.23386799],\n",
       "       [-0.17067612],\n",
       "       [ 0.43037873],\n",
       "       [ 0.97674768],\n",
       "       [ 0.59831713],\n",
       "       [ 0.20552675],\n",
       "       [ 0.56105835],\n",
       "       [-0.81211898],\n",
       "       [ 0.33482076],\n",
       "       [ 0.47852716],\n",
       "       [ 0.04649611],\n",
       "       [-0.87170501],\n",
       "       [ 0.95723668],\n",
       "       [-0.68206083],\n",
       "       [-0.0626976 ],\n",
       "       [-0.85792788],\n",
       "       [-0.73640428],\n",
       "       [-0.12279697]])"
      ]
     },
     "execution_count": 2,
     "metadata": {},
     "output_type": "execute_result"
    }
   ],
   "source": [
    "X_train"
   ]
  },
  {
   "cell_type": "code",
   "execution_count": 3,
   "metadata": {},
   "outputs": [
    {
     "data": {
      "text/plain": [
       "array([[ 2.22847482],\n",
       "       [ 3.35145852],\n",
       "       [ 1.12748135],\n",
       "       [ 2.77161675],\n",
       "       [ 1.0568852 ],\n",
       "       [ 2.2217562 ],\n",
       "       [ 2.13491739],\n",
       "       [ 1.38458518],\n",
       "       [ 2.84850652],\n",
       "       [ 2.66336962],\n",
       "       [ 3.28190474],\n",
       "       [ 3.38250771],\n",
       "       [ 2.48522614],\n",
       "       [ 3.96759337],\n",
       "       [ 1.87522373],\n",
       "       [ 4.23024759],\n",
       "       [ 1.93523754],\n",
       "       [ 2.71639599],\n",
       "       [ 3.06540361],\n",
       "       [ 1.51131759],\n",
       "       [ 2.17203289],\n",
       "       [ 1.23270274],\n",
       "       [ 2.91059333],\n",
       "       [ 2.24871267],\n",
       "       [ 2.53734391],\n",
       "       [ 3.41583164],\n",
       "       [ 3.77275971],\n",
       "       [ 4.26261901],\n",
       "       [ 2.52821056],\n",
       "       [ 4.19009731],\n",
       "       [ 0.35485427],\n",
       "       [ 0.55755168],\n",
       "       [ 4.67238211],\n",
       "       [ 3.89540024],\n",
       "       [ 2.28653921],\n",
       "       [ 0.52792938],\n",
       "       [ 3.06174471],\n",
       "       [ 3.96043402],\n",
       "       [ 3.19657432],\n",
       "       [ 3.54412546],\n",
       "       [ 2.92969179],\n",
       "       [ 1.51752325],\n",
       "       [ 0.95141292],\n",
       "       [ 2.83364011],\n",
       "       [ 1.38033264],\n",
       "       [ 2.6358736 ],\n",
       "       [ 1.15336809],\n",
       "       [ 1.58839593],\n",
       "       [ 1.96375704],\n",
       "       [ 0.81125885],\n",
       "       [ 1.0903725 ],\n",
       "       [ 0.78259307],\n",
       "       [ 2.33089819],\n",
       "       [ 2.37128485],\n",
       "       [ 2.41875064],\n",
       "       [ 1.42001452],\n",
       "       [ 0.83959308],\n",
       "       [ 1.05492057],\n",
       "       [ 0.63326893],\n",
       "       [ 0.52642623],\n",
       "       [ 2.17322049],\n",
       "       [ 0.9166389 ],\n",
       "       [ 2.10620502],\n",
       "       [ 3.32440384],\n",
       "       [ 3.42381815],\n",
       "       [ 2.77943303],\n",
       "       [ 1.42954976],\n",
       "       [ 2.69230981],\n",
       "       [ 3.6878483 ],\n",
       "       [-0.02712146],\n",
       "       [ 2.70960088],\n",
       "       [ 2.49456876],\n",
       "       [ 1.0473617 ],\n",
       "       [ 2.45765061],\n",
       "       [ 5.29853842],\n",
       "       [ 0.05928506],\n",
       "       [ 3.65261062],\n",
       "       [ 1.86645864],\n",
       "       [ 2.39157196],\n",
       "       [ 2.42399177]])"
      ]
     },
     "execution_count": 3,
     "metadata": {},
     "output_type": "execute_result"
    }
   ],
   "source": [
    "y_train"
   ]
  },
  {
   "cell_type": "code",
   "execution_count": 18,
   "metadata": {},
   "outputs": [],
   "source": [
    "# Apply polynomial features transformation\n",
    "degree = 2  # Degree of the polynomial\n",
    "poly_features = PolynomialFeatures(degree=degree)\n",
    "X_train_poly = poly_features.fit_transform(X_train)\n"
   ]
  },
  {
   "cell_type": "code",
   "execution_count": 19,
   "metadata": {},
   "outputs": [
    {
     "data": {
      "text/plain": [
       "array([[ 1.        , -0.67738096,  0.45884497],\n",
       "       [ 1.        ,  0.15189299,  0.02307148],\n",
       "       [ 1.        , -0.71329343,  0.50878751],\n",
       "       [ 1.        ,  0.39526239,  0.15623236],\n",
       "       [ 1.        , -0.80780318,  0.65254598],\n",
       "       [ 1.        , -0.8257414 ,  0.68184886],\n",
       "       [ 1.        , -0.2809842 ,  0.07895212],\n",
       "       [ 1.        ,  0.17302587,  0.02993795],\n",
       "       [ 1.        , -0.23311696,  0.05434352],\n",
       "       [ 1.        ,  0.95352218,  0.90920454],\n",
       "       [ 1.        ,  0.05778984,  0.00333967],\n",
       "       [ 1.        , -0.7421474 ,  0.55078277],\n",
       "       [ 1.        , -0.46922102,  0.22016836],\n",
       "       [ 1.        ,  0.04369664,  0.0019094 ],\n",
       "       [ 1.        ,  0.43265441,  0.18718984],\n",
       "       [ 1.        ,  0.29178823,  0.08514037],\n",
       "       [ 1.        ,  0.64198646,  0.41214661],\n",
       "       [ 1.        , -0.26254966,  0.06893232],\n",
       "       [ 1.        ,  0.23527099,  0.05535244],\n",
       "       [ 1.        , -0.95956321,  0.92076154],\n",
       "       [ 1.        , -0.27257846,  0.07429902],\n",
       "       [ 1.        , -0.9624204 ,  0.92625302],\n",
       "       [ 1.        ,  0.783546  ,  0.61394434],\n",
       "       [ 1.        , -0.63361728,  0.40147085],\n",
       "       [ 1.        ,  0.88933783,  0.79092178],\n",
       "       [ 1.        ,  0.7400243 ,  0.54763596],\n",
       "       [ 1.        , -0.17147401,  0.02940334],\n",
       "       [ 1.        ,  0.27984204,  0.07831157],\n",
       "       [ 1.        ,  0.31265918,  0.09775576],\n",
       "       [ 1.        ,  0.85119328,  0.72452999],\n",
       "       [ 1.        , -0.76345115,  0.58285766],\n",
       "       [ 1.        ,  0.08976637,  0.008058  ],\n",
       "       [ 1.        ,  0.66523969,  0.44254385],\n",
       "       [ 1.        ,  0.88749616,  0.78764943],\n",
       "       [ 1.        ,  0.92732552,  0.85993262],\n",
       "       [ 1.        , -0.4077196 ,  0.16623528],\n",
       "       [ 1.        , -0.12482558,  0.01558142],\n",
       "       [ 1.        , -0.60683528,  0.36824905],\n",
       "       [ 1.        ,  0.22419145,  0.0502618 ],\n",
       "       [ 1.        ,  0.8585924 ,  0.7371809 ],\n",
       "       [ 1.        ,  0.30621665,  0.09376864],\n",
       "       [ 1.        , -0.99060905,  0.98130629],\n",
       "       [ 1.        , -0.58224649,  0.33901097],\n",
       "       [ 1.        , -0.87954906,  0.77360654],\n",
       "       [ 1.        ,  0.14039354,  0.01971035],\n",
       "       [ 1.        , -0.80579745,  0.64930953],\n",
       "       [ 1.        , -0.57923488,  0.33551304],\n",
       "       [ 1.        ,  0.67588981,  0.45682704],\n",
       "       [ 1.        , -0.77924972,  0.60723012],\n",
       "       [ 1.        , -0.95978491,  0.92118707],\n",
       "       [ 1.        , -0.76254456,  0.58147421],\n",
       "       [ 1.        , -0.12593609,  0.0158599 ],\n",
       "       [ 1.        , -0.06737845,  0.00453986],\n",
       "       [ 1.        , -0.3691433 ,  0.13626677],\n",
       "       [ 1.        ,  0.65788006,  0.43280617],\n",
       "       [ 1.        , -0.49341679,  0.24346013],\n",
       "       [ 1.        , -0.92162442,  0.84939156],\n",
       "       [ 1.        , -0.08769934,  0.00769117],\n",
       "       [ 1.        , -0.42118781,  0.17739917],\n",
       "       [ 1.        , -0.51114882,  0.26127311],\n",
       "       [ 1.        , -0.7236341 ,  0.52364631],\n",
       "       [ 1.        ,  0.13320291,  0.01774301],\n",
       "       [ 1.        ,  0.23386799,  0.05469424],\n",
       "       [ 1.        , -0.17067612,  0.02913034],\n",
       "       [ 1.        ,  0.43037873,  0.18522585],\n",
       "       [ 1.        ,  0.97674768,  0.95403602],\n",
       "       [ 1.        ,  0.59831713,  0.35798339],\n",
       "       [ 1.        ,  0.20552675,  0.04224125],\n",
       "       [ 1.        ,  0.56105835,  0.31478647],\n",
       "       [ 1.        , -0.81211898,  0.65953724],\n",
       "       [ 1.        ,  0.33482076,  0.11210494],\n",
       "       [ 1.        ,  0.47852716,  0.22898824],\n",
       "       [ 1.        ,  0.04649611,  0.00216189],\n",
       "       [ 1.        , -0.87170501,  0.75986962],\n",
       "       [ 1.        ,  0.95723668,  0.91630207],\n",
       "       [ 1.        , -0.68206083,  0.46520698],\n",
       "       [ 1.        , -0.0626976 ,  0.00393099],\n",
       "       [ 1.        , -0.85792788,  0.73604025],\n",
       "       [ 1.        , -0.73640428,  0.54229126],\n",
       "       [ 1.        , -0.12279697,  0.0150791 ]])"
      ]
     },
     "execution_count": 19,
     "metadata": {},
     "output_type": "execute_result"
    }
   ],
   "source": [
    "X_train_poly"
   ]
  },
  {
   "cell_type": "code",
   "execution_count": 20,
   "metadata": {},
   "outputs": [
    {
     "name": "stdout",
     "output_type": "stream",
     "text": [
      "Mean Squared Error: 0.9116159861274985\n"
     ]
    }
   ],
   "source": [
    "\n",
    "# Train linear regression model\n",
    "model = LinearRegression()\n",
    "model.fit(X_train_poly, y_train)\n",
    "\n",
    "# Evaluate the model\n",
    "X_test_poly = poly_features.transform(X_test)\n",
    "y_pred = model.predict(X_test_poly)\n",
    "mse = mean_squared_error(y_test, y_pred)\n",
    "print(\"Mean Squared Error:\", mse)"
   ]
  },
  {
   "cell_type": "code",
   "execution_count": 22,
   "metadata": {},
   "outputs": [
    {
     "data": {
      "text/plain": [
       "array([[ 1.        ,  0.38494424,  0.14818207],\n",
       "       [ 1.        , -0.79591038,  0.63347333],\n",
       "       [ 1.        ,  0.95291893,  0.90805449],\n",
       "       [ 1.        ,  0.34127574,  0.11646913],\n",
       "       [ 1.        ,  0.33353343,  0.11124455],\n",
       "       [ 1.        ,  0.3636406 ,  0.13223448],\n",
       "       [ 1.        , -0.07704128,  0.00593536],\n",
       "       [ 1.        , -0.36403364,  0.13252049],\n",
       "       [ 1.        ,  0.58345008,  0.34041399],\n",
       "       [ 1.        ,  0.09762701,  0.00953103],\n",
       "       [ 1.        ,  0.5563135 ,  0.30948471],\n",
       "       [ 1.        , -0.47088878,  0.22173624],\n",
       "       [ 1.        ,  0.20969104,  0.04397033],\n",
       "       [ 1.        ,  0.1368679 ,  0.01873282],\n",
       "       [ 1.        , -0.3628621 ,  0.1316689 ],\n",
       "       [ 1.        , -0.1526904 ,  0.02331436],\n",
       "       [ 1.        , -0.43438607,  0.18869126],\n",
       "       [ 1.        , -0.75960688,  0.57700261],\n",
       "       [ 1.        ,  0.13608912,  0.01852025],\n",
       "       [ 1.        ,  0.54846738,  0.30081647]])"
      ]
     },
     "execution_count": 22,
     "metadata": {},
     "output_type": "execute_result"
    }
   ],
   "source": [
    "X_test_poly"
   ]
  },
  {
   "cell_type": "code",
   "execution_count": 21,
   "metadata": {},
   "outputs": [
    {
     "data": {
      "image/png": "[encoded data removed]",
      "text/plain": [
       "<Figure size 640x480 with 1 Axes>"
      ]
     },
     "metadata": {},
     "output_type": "display_data"
    }
   ],
   "source": [
    "# Plot the results\n",
    "plt.scatter(X, y, color='blue', label='Actual Data')\n",
    "plt.plot(X_test, y_pred, color='red', label='Predicted Data')\n",
    "plt.xlabel('X')\n",
    "plt.ylabel('y')\n",
    "plt.title('Polynomial Regression')\n",
    "plt.legend()\n",
    "plt.show()\n"
   ]
  },
  {
   "cell_type": "code",
   "execution_count": 24,
   "metadata": {},
   "outputs": [],
   "source": [
    "# pow(x,n) using recursion"
   ]
  },
  {
   "cell_type": "code",
   "execution_count": 2,
   "metadata": {},
   "outputs": [],
   "source": [
    "def pow_(x,n):\n",
    "    if n==1:\n",
    "        return x\n",
    "    else:\n",
    "        n -= 1\n",
    "        return x * pow_(x, n)"
   ]
  },
  {
   "cell_type": "code",
   "execution_count": 3,
   "metadata": {},
   "outputs": [
    {
     "data": {
      "text/plain": [
       "125"
      ]
     },
     "execution_count": 3,
     "metadata": {},
     "output_type": "execute_result"
    }
   ],
   "source": [
    "pow_(5,3)"
   ]
  },
  {
   "cell_type": "code",
   "execution_count": 4,
   "metadata": {},
   "outputs": [
    {
     "data": {
      "text/plain": [
       "0.25"
      ]
     },
     "execution_count": 4,
     "metadata": {},
     "output_type": "execute_result"
    }
   ],
   "source": [
    "pow(2, -2)"
   ]
  },
  {
   "cell_type": "code",
   "execution_count": 3,
   "metadata": {},
   "outputs": [],
   "source": [
    "def pow_(x,n):\n",
    "    # print(n)\n",
    "    if n == -1:\n",
    "        return 1/x\n",
    "    if n < -1:\n",
    "        n += 1\n",
    "        return (1/x) * pow_(x,n)\n",
    "    if n==1:\n",
    "        return x\n",
    "    else:\n",
    "        n -= 1\n",
    "        return x * pow_(x, n)"
   ]
  },
  {
   "cell_type": "code",
   "execution_count": null,
   "metadata": {},
   "outputs": [
    {
     "ename": "",
     "evalue": "",
     "output_type": "error",
     "traceback": [
      "\u001b[1;31mCanceled future for execute_request message before replies were done"
     ]
    },
    {
     "ename": "",
     "evalue": "",
     "output_type": "error",
     "traceback": [
      "\u001b[1;31mThe Kernel crashed while executing code in the the current cell or a previous cell. Please review the code in the cell(s) to identify a possible cause of the failure. Click <a href='https://aka.ms/vscodeJupyterKernelCrash'>here</a> for more info. View Jupyter <a href='command:jupyter.viewOutput'>log</a> for further details."
     ]
    }
   ],
   "source": [
    "pow_(0.00001, 1073741823)"
   ]
  },
  {
   "cell_type": "code",
   "execution_count": 1,
   "metadata": {},
   "outputs": [
    {
     "data": {
      "text/plain": [
       "1073741823.5"
      ]
     },
     "execution_count": 1,
     "metadata": {},
     "output_type": "execute_result"
    }
   ],
   "source": [
    "2147483647/2"
   ]
  },
  {
   "cell_type": "code",
   "execution_count": 3,
   "metadata": {},
   "outputs": [],
   "source": [
    "li1 = [12, 34, 54,23, 12]\n",
    "li2 = [56,73,12,54]"
   ]
  },
  {
   "cell_type": "code",
   "execution_count": 4,
   "metadata": {},
   "outputs": [
    {
     "data": {
      "text/plain": [
       "{12, 23, 34, 54}"
      ]
     },
     "execution_count": 4,
     "metadata": {},
     "output_type": "execute_result"
    }
   ],
   "source": [
    "set(li1)"
   ]
  },
  {
   "cell_type": "code",
   "execution_count": 5,
   "metadata": {},
   "outputs": [
    {
     "data": {
      "text/plain": [
       "{12, 54, 56, 73}"
      ]
     },
     "execution_count": 5,
     "metadata": {},
     "output_type": "execute_result"
    }
   ],
   "source": [
    "set(li2)"
   ]
  },
  {
   "cell_type": "code",
   "execution_count": 7,
   "metadata": {},
   "outputs": [
    {
     "data": {
      "text/plain": [
       "[34, 73, 12, 54, 23, 56]"
      ]
     },
     "execution_count": 7,
     "metadata": {},
     "output_type": "execute_result"
    }
   ],
   "source": [
    "list(set(li1) | set(li2))"
   ]
  },
  {
   "cell_type": "code",
   "execution_count": null,
   "metadata": {},
   "outputs": [],
   "source": [
    "li1 = [12, 34, 54,23, 12]\n",
    "li2 = [56,73,12,54]\n",
    "i = 0\n",
    "j = 0\n",
    "n = len(li1)\n",
    "m = len(li2)\n",
    "while(i < n | j<m):\n",
    "    "
   ]
  },
  {
   "cell_type": "code",
   "execution_count": 16,
   "metadata": {},
   "outputs": [],
   "source": [
    "x  = 300\n",
    "t1 = ((1,2,3),(4,5,6),[7,8,9],x)"
   ]
  },
  {
   "cell_type": "code",
   "execution_count": 14,
   "metadata": {},
   "outputs": [],
   "source": [
    "t1[2][1] = 100"
   ]
  },
  {
   "cell_type": "code",
   "execution_count": 19,
   "metadata": {},
   "outputs": [
    {
     "data": {
      "text/plain": [
       "((1, 2, 3), (4, 5, 6), [7, 8, 9], 300)"
      ]
     },
     "execution_count": 19,
     "metadata": {},
     "output_type": "execute_result"
    }
   ],
   "source": [
    "t1"
   ]
  },
  {
   "cell_type": "code",
   "execution_count": null,
   "metadata": {},
   "outputs": [],
   "source": [
    "#Decarator"
   ]
  },
  {
   "cell_type": "code",
   "execution_count": null,
   "metadata": {},
   "outputs": [],
   "source": [
    "print(\"shyam\")"
   ]
  },
  {
   "cell_type": "code",
   "execution_count": null,
   "metadata": {},
   "outputs": [],
   "source": []
  }
 ],
 "metadata": {
  "kernelspec": {
   "display_name": "Python 3",
   "language": "python",
   "name": "python3"
  },
  "language_info": {
   "codemirror_mode": {
    "name": "ipython",
    "version": 3
   },
   "file_extension": ".py",
   "mimetype": "text/x-python",
   "name": "python",
   "nbconvert_exporter": "python",
   "pygments_lexer": "ipython3",
   "version": "3.10.11"
  },
  "orig_nbformat": 4
 },
 "nbformat": 4,
 "nbformat_minor": 2
}
